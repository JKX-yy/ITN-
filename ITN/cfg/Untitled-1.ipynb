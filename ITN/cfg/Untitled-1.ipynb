{
 "cells": [
  {
   "cell_type": "code",
   "execution_count": 11,
   "metadata": {},
   "outputs": [
    {
     "name": "stdout",
     "output_type": "stream",
     "text": [
      "Sure! Why don't skeletons fight each other? They don't have the guts.\n"
     ]
    }
   ],
   "source": [
    "import requests\n",
    "\n",
    "# API 访问密钥和URL\n",
    "gpt_key = 'sk-B1vr45pdGzgYmdayA85d910a4b1e48CaA646AfA8365401F0'\n",
    "gpt_url = 'https://gtapi.xiaoerchaoren.com:8932/v1/chat/completions'\n",
    "\n",
    "# 请求头\n",
    "headers = {\n",
    "    'Content-Type': 'application/json',\n",
    "    'Authorization': f'Bearer {gpt_key}'\n",
    "}\n",
    "\n",
    "# 请求数据\n",
    "data = {\n",
    "    'model': 'gpt-3.5-turbo',  # 或 'gpt-4-0314' 根据需要选择\n",
    "    'messages': [\n",
    "        {'role': 'system', 'content': 'You are a helpful assistant.'},\n",
    "        {'role': 'user', 'content': 'Can you tell me a joke?'}\n",
    "    ],\n",
    "    'max_tokens': 50,  # 可根据需要调整\n",
    "    'temperature': 0.7  # 可根据需要调整\n",
    "}\n",
    "\n",
    "# 发送请求并获取响应\n",
    "response = requests.post(gpt_url, headers=headers, json=data)\n",
    "\n",
    "# 处理响应\n",
    "if response.status_code == 200:\n",
    "    response_data = response.json()\n",
    "    print(response_data['choices'][0]['message']['content'])\n",
    "else:\n",
    "    print(f\"Request failed with status code {response.status_code}\")\n",
    "    print(response.text)\n"
   ]
  },
  {
   "cell_type": "code",
   "execution_count": 23,
   "metadata": {},
   "outputs": [
    {
     "name": "stdout",
     "output_type": "stream",
     "text": [
      "Request failed with status code 404\n",
      "{\"error\":{\"message\":\"Invalid URL (POST /v1)\",\"type\":\"invalid_request_error\",\"param\":\"\",\"code\":\"\"}}\n"
     ]
    }
   ],
   "source": [
    "import requests\n",
    "\n",
    "# API 访问密钥和URL\n",
    "gpt_key = 'sk-mdIi7O0RoLWufmEq02C4B5E7699f4b07Bc8d5cFe0cA9E3B2'\n",
    "gpt_url = 'https://gtapi.xiaoerchaoren.com:8932/v1'\n",
    "\n",
    "# 请求头\n",
    "headers = {\n",
    "    'Content-Type': 'application/json',\n",
    "    'Authorization': f'Bearer {gpt_key}'\n",
    "}\n",
    "\n",
    "# 请求数据\n",
    "data = {\n",
    "    'model': 'gpt-4-0613',  # \n",
    "    'messages': [\n",
    "        {'role': 'system', 'content': 'You are a helpful assistant.'},\n",
    "        {'role': 'user', 'content': 'Can you tell me a joke?'}\n",
    "    ],\n",
    "    'max_tokens': 50,  # 可根据需要调整\n",
    "    'temperature': 0.7  # 可根据需要调整\n",
    "}\n",
    "\n",
    "# 发送请求并获取响应\n",
    "response = requests.post(gpt_url, headers=headers, json=data)\n",
    "\n",
    "# 处理响应\n",
    "if response.status_code == 200:\n",
    "    response_data = response.json()\n",
    "    print(response_data['choices'][0]['message']['content'])\n",
    "else:\n",
    "    print(f\"Request failed with status code {response.status_code}\")\n",
    "    print(response.text)\n"
   ]
  }
 ],
 "metadata": {
  "kernelspec": {
   "display_name": "eureka",
   "language": "python",
   "name": "python3"
  },
  "language_info": {
   "codemirror_mode": {
    "name": "ipython",
    "version": 3
   },
   "file_extension": ".py",
   "mimetype": "text/x-python",
   "name": "python",
   "nbconvert_exporter": "python",
   "pygments_lexer": "ipython3",
   "version": "3.8.18"
  }
 },
 "nbformat": 4,
 "nbformat_minor": 2
}
